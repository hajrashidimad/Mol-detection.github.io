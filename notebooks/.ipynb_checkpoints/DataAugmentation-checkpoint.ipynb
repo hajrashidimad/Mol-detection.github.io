{
 "cells": [
  {
   "cell_type": "code",
   "execution_count": null,
   "metadata": {},
   "outputs": [],
   "source": [
    "from keras.preprocessing.image import ImageDataGenerator\n",
    "from skimage import io\n",
    "import numpy as np\n",
    "import os\n",
    "from PIL import Image\n",
    "from PIL import Image\n",
    "import cv2 as cv\n",
    "\n",
    "\n"
   ]
  },
  {
   "cell_type": "code",
   "execution_count": 18,
   "metadata": {},
   "outputs": [],
   "source": [
    "datagen = ImageDataGenerator(        \n",
    "            rotation_range=30,\n",
    "            width_shift_range=0.2,  \n",
    "            height_shift_range=0.2,    \n",
    "            shear_range=0.2,        \n",
    "            zoom_range=0.2,        \n",
    "            horizontal_flip=True,         \n",
    "            fill_mode='nearest')\n",
    "\n",
    "image_directory = '/home/imad/test_folder/'\n",
    "# SIZE = 256\n",
    "dataset = []\n",
    "my_images = os.listdir(image_directory)\n",
    "for i, image_name in enumerate(my_images):    \n",
    "   if (image_name.split('.')[1] == 'BMP'):        \n",
    "       image = io.imread(image_directory + image_name)        \n",
    "       image = Image.fromarray(image, 'RGB')        \n",
    "       image = image.resize((SIZE,SIZE)) \n",
    "       dataset.append(np.array(image))\n",
    "x = np.array(dataset)\n",
    "i = 0\n",
    "for batch in datagen.flow(x, batch_size=1,\n",
    "                          save_to_dir='/home/imad/test_folder',\n",
    "                          save_prefix='aug',\n",
    "                          save_format='BMP'):    \n",
    "  i += 1    \n",
    "  if i > 0:        \n",
    "     break"
   ]
  },
  {
   "cell_type": "code",
   "execution_count": 20,
   "metadata": {},
   "outputs": [
    {
     "data": {
      "text/plain": [
       "(256, 256, 3)"
      ]
     },
     "execution_count": 20,
     "metadata": {},
     "output_type": "execute_result"
    }
   ],
   "source": [
    "path = \"/home/imad/test_folder/aug_0_2277.BMP\"\n",
    "img = cv.imread(path)\n",
    "img.shape"
   ]
  },
  {
   "cell_type": "code",
   "execution_count": null,
   "metadata": {},
   "outputs": [],
   "source": [
    "resize_image = cat_image.resize(new_dim)"
   ]
  },
  {
   "cell_type": "code",
   "execution_count": 21,
   "metadata": {},
   "outputs": [],
   "source": [
    "def load_images_from_folder(folder):\n",
    "    images = []\n",
    "    for filename in os.listdir(folder):\n",
    "        img = cv.imread(os.path.join(folder,filename))\n",
    "        if img is not None:\n",
    "            images.append(img)\n",
    "    return images"
   ]
  },
  {
   "cell_type": "code",
   "execution_count": 61,
   "metadata": {},
   "outputs": [
    {
     "data": {
      "text/plain": [
       "False"
      ]
     },
     "execution_count": 61,
     "metadata": {},
     "output_type": "execute_result"
    }
   ],
   "source": [
    "import cv2\n",
    " \n",
    "src = cv2.imread('/home/imad/test_folder/F1000.BMP', cv2.IMREAD_UNCHANGED)\n",
    "\n",
    "# set a new width in pixels\n",
    "new_width = 256\n",
    "new_height = 256\n",
    "\n",
    "# dsize\n",
    "dsize = (new_width, new_height)\n",
    "\n",
    "# resize image\n",
    "output = cv2.resize(src, dsize, interpolation = cv2.INTER_NEAREST)\n",
    "\n",
    "cv2.imwrite('home/imad/test_folder/res.BMP',output) "
   ]
  }
 ],
 "metadata": {
  "kernelspec": {
   "display_name": "Python 3",
   "language": "python",
   "name": "python3"
  },
  "language_info": {
   "codemirror_mode": {
    "name": "ipython",
    "version": 3
   },
   "file_extension": ".py",
   "mimetype": "text/x-python",
   "name": "python",
   "nbconvert_exporter": "python",
   "pygments_lexer": "ipython3",
   "version": "3.8.5"
  }
 },
 "nbformat": 4,
 "nbformat_minor": 4
}
