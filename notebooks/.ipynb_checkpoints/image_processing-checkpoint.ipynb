{
 "cells": [
  {
   "cell_type": "code",
   "execution_count": 1,
   "metadata": {},
   "outputs": [],
   "source": [
    "import pandas as pd\n",
    "import os\n",
    "import cv2 as cv\n",
    "import matplotlib.pyplot as plt\n",
    "import numpy as np\n",
    "import tensorflow as tf\n",
    "from tensorflow.keras.preprocessing.image import ImageDataGenerator, img_to_array, array_to_img, load_img\n",
    "from tensorflow.keras.preprocessing import image_dataset_from_directory\n",
    "from PIL import Image\n",
    "\n"
   ]
  },
  {
   "cell_type": "code",
   "execution_count": 2,
   "metadata": {
    "scrolled": true
   },
   "outputs": [
    {
     "data": {
      "text/html": [
       "<div>\n",
       "<style scoped>\n",
       "    .dataframe tbody tr th:only-of-type {\n",
       "        vertical-align: middle;\n",
       "    }\n",
       "\n",
       "    .dataframe tbody tr th {\n",
       "        vertical-align: top;\n",
       "    }\n",
       "\n",
       "    .dataframe thead th {\n",
       "        text-align: right;\n",
       "    }\n",
       "</style>\n",
       "<table border=\"1\" class=\"dataframe\">\n",
       "  <thead>\n",
       "    <tr style=\"text-align: right;\">\n",
       "      <th></th>\n",
       "      <th>klin. Diagn.</th>\n",
       "      <th>id</th>\n",
       "      <th>nr</th>\n",
       "      <th>Histo performed</th>\n",
       "      <th>Diagnose red.</th>\n",
       "      <th>kat.Diagnose</th>\n",
       "    </tr>\n",
       "  </thead>\n",
       "  <tbody>\n",
       "    <tr>\n",
       "      <th>0</th>\n",
       "      <td>Compound Nävus</td>\n",
       "      <td>d1</td>\n",
       "      <td>1</td>\n",
       "      <td>0</td>\n",
       "      <td>Compound Nevus</td>\n",
       "      <td>1</td>\n",
       "    </tr>\n",
       "    <tr>\n",
       "      <th>1</th>\n",
       "      <td>Compound Nävus</td>\n",
       "      <td>d2</td>\n",
       "      <td>2</td>\n",
       "      <td>0</td>\n",
       "      <td>Compound Nevus</td>\n",
       "      <td>1</td>\n",
       "    </tr>\n",
       "    <tr>\n",
       "      <th>2</th>\n",
       "      <td>Dysplastischer Nävus</td>\n",
       "      <td>d3</td>\n",
       "      <td>3</td>\n",
       "      <td>0</td>\n",
       "      <td>Compound Nevus</td>\n",
       "      <td>1</td>\n",
       "    </tr>\n",
       "    <tr>\n",
       "      <th>3</th>\n",
       "      <td>Compound Nävus</td>\n",
       "      <td>d4</td>\n",
       "      <td>4</td>\n",
       "      <td>0</td>\n",
       "      <td>Compound Nevus</td>\n",
       "      <td>1</td>\n",
       "    </tr>\n",
       "    <tr>\n",
       "      <th>4</th>\n",
       "      <td>Dermaler Nävus</td>\n",
       "      <td>d5</td>\n",
       "      <td>5</td>\n",
       "      <td>0</td>\n",
       "      <td>Compound Nevus</td>\n",
       "      <td>1</td>\n",
       "    </tr>\n",
       "    <tr>\n",
       "      <th>...</th>\n",
       "      <td>...</td>\n",
       "      <td>...</td>\n",
       "      <td>...</td>\n",
       "      <td>...</td>\n",
       "      <td>...</td>\n",
       "      <td>...</td>\n",
       "    </tr>\n",
       "    <tr>\n",
       "      <th>2995</th>\n",
       "      <td>Compound Nevus</td>\n",
       "      <td>f996</td>\n",
       "      <td>2996</td>\n",
       "      <td>0</td>\n",
       "      <td>Compound Nevus</td>\n",
       "      <td>1</td>\n",
       "    </tr>\n",
       "    <tr>\n",
       "      <th>2996</th>\n",
       "      <td>Compound Nevus</td>\n",
       "      <td>f997</td>\n",
       "      <td>2997</td>\n",
       "      <td>0</td>\n",
       "      <td>Compound Nevus</td>\n",
       "      <td>1</td>\n",
       "    </tr>\n",
       "    <tr>\n",
       "      <th>2997</th>\n",
       "      <td>Compound Nevus</td>\n",
       "      <td>f998</td>\n",
       "      <td>2998</td>\n",
       "      <td>0</td>\n",
       "      <td>Compound Nevus</td>\n",
       "      <td>1</td>\n",
       "    </tr>\n",
       "    <tr>\n",
       "      <th>2998</th>\n",
       "      <td>Compound Nevus</td>\n",
       "      <td>f999</td>\n",
       "      <td>2999</td>\n",
       "      <td>0</td>\n",
       "      <td>Compound Nevus</td>\n",
       "      <td>1</td>\n",
       "    </tr>\n",
       "    <tr>\n",
       "      <th>2999</th>\n",
       "      <td>Compound Nevus</td>\n",
       "      <td>f1000</td>\n",
       "      <td>3000</td>\n",
       "      <td>0</td>\n",
       "      <td>Compound Nevus</td>\n",
       "      <td>1</td>\n",
       "    </tr>\n",
       "  </tbody>\n",
       "</table>\n",
       "<p>3000 rows × 6 columns</p>\n",
       "</div>"
      ],
      "text/plain": [
       "              klin. Diagn.     id    nr  Histo performed   Diagnose red.  \\\n",
       "0           Compound Nävus     d1     1                0  Compound Nevus   \n",
       "1           Compound Nävus     d2     2                0  Compound Nevus   \n",
       "2     Dysplastischer Nävus     d3     3                0  Compound Nevus   \n",
       "3           Compound Nävus     d4     4                0  Compound Nevus   \n",
       "4           Dermaler Nävus     d5     5                0  Compound Nevus   \n",
       "...                    ...    ...   ...              ...             ...   \n",
       "2995        Compound Nevus   f996  2996                0  Compound Nevus   \n",
       "2996        Compound Nevus   f997  2997                0  Compound Nevus   \n",
       "2997        Compound Nevus   f998  2998                0  Compound Nevus   \n",
       "2998        Compound Nevus   f999  2999                0  Compound Nevus   \n",
       "2999        Compound Nevus  f1000  3000                0  Compound Nevus   \n",
       "\n",
       "     kat.Diagnose  \n",
       "0               1  \n",
       "1               1  \n",
       "2               1  \n",
       "3               1  \n",
       "4               1  \n",
       "...           ...  \n",
       "2995            1  \n",
       "2996            1  \n",
       "2997            1  \n",
       "2998            1  \n",
       "2999            1  \n",
       "\n",
       "[3000 rows x 6 columns]"
      ]
     },
     "execution_count": 2,
     "metadata": {},
     "output_type": "execute_result"
    }
   ],
   "source": [
    "df = pd.read_excel (r'/home/imad/Desktop/Becode/Project/challenge-mole/CLIN_DIA.xlsx')\n",
    "df"
   ]
  },
  {
   "cell_type": "code",
   "execution_count": 3,
   "metadata": {
    "scrolled": true
   },
   "outputs": [
    {
     "data": {
      "text/html": [
       "<div>\n",
       "<style scoped>\n",
       "    .dataframe tbody tr th:only-of-type {\n",
       "        vertical-align: middle;\n",
       "    }\n",
       "\n",
       "    .dataframe tbody tr th {\n",
       "        vertical-align: top;\n",
       "    }\n",
       "\n",
       "    .dataframe thead th {\n",
       "        text-align: right;\n",
       "    }\n",
       "</style>\n",
       "<table border=\"1\" class=\"dataframe\">\n",
       "  <thead>\n",
       "    <tr style=\"text-align: right;\">\n",
       "      <th></th>\n",
       "      <th>klin. Diagn.</th>\n",
       "      <th>id</th>\n",
       "      <th>nr</th>\n",
       "      <th>Histo performed</th>\n",
       "      <th>Diagnose red.</th>\n",
       "      <th>kat.Diagnose</th>\n",
       "    </tr>\n",
       "  </thead>\n",
       "  <tbody>\n",
       "    <tr>\n",
       "      <th>0</th>\n",
       "      <td>Compound Nävus</td>\n",
       "      <td>D1</td>\n",
       "      <td>1</td>\n",
       "      <td>0</td>\n",
       "      <td>Compound Nevus</td>\n",
       "      <td>0</td>\n",
       "    </tr>\n",
       "    <tr>\n",
       "      <th>1</th>\n",
       "      <td>Compound Nävus</td>\n",
       "      <td>D2</td>\n",
       "      <td>2</td>\n",
       "      <td>0</td>\n",
       "      <td>Compound Nevus</td>\n",
       "      <td>0</td>\n",
       "    </tr>\n",
       "    <tr>\n",
       "      <th>2</th>\n",
       "      <td>Dysplastischer Nävus</td>\n",
       "      <td>D3</td>\n",
       "      <td>3</td>\n",
       "      <td>0</td>\n",
       "      <td>Compound Nevus</td>\n",
       "      <td>0</td>\n",
       "    </tr>\n",
       "    <tr>\n",
       "      <th>3</th>\n",
       "      <td>Compound Nävus</td>\n",
       "      <td>D4</td>\n",
       "      <td>4</td>\n",
       "      <td>0</td>\n",
       "      <td>Compound Nevus</td>\n",
       "      <td>0</td>\n",
       "    </tr>\n",
       "    <tr>\n",
       "      <th>4</th>\n",
       "      <td>Dermaler Nävus</td>\n",
       "      <td>D5</td>\n",
       "      <td>5</td>\n",
       "      <td>0</td>\n",
       "      <td>Compound Nevus</td>\n",
       "      <td>0</td>\n",
       "    </tr>\n",
       "    <tr>\n",
       "      <th>...</th>\n",
       "      <td>...</td>\n",
       "      <td>...</td>\n",
       "      <td>...</td>\n",
       "      <td>...</td>\n",
       "      <td>...</td>\n",
       "      <td>...</td>\n",
       "    </tr>\n",
       "    <tr>\n",
       "      <th>2995</th>\n",
       "      <td>Compound Nevus</td>\n",
       "      <td>F996</td>\n",
       "      <td>2996</td>\n",
       "      <td>0</td>\n",
       "      <td>Compound Nevus</td>\n",
       "      <td>0</td>\n",
       "    </tr>\n",
       "    <tr>\n",
       "      <th>2996</th>\n",
       "      <td>Compound Nevus</td>\n",
       "      <td>F997</td>\n",
       "      <td>2997</td>\n",
       "      <td>0</td>\n",
       "      <td>Compound Nevus</td>\n",
       "      <td>0</td>\n",
       "    </tr>\n",
       "    <tr>\n",
       "      <th>2997</th>\n",
       "      <td>Compound Nevus</td>\n",
       "      <td>F998</td>\n",
       "      <td>2998</td>\n",
       "      <td>0</td>\n",
       "      <td>Compound Nevus</td>\n",
       "      <td>0</td>\n",
       "    </tr>\n",
       "    <tr>\n",
       "      <th>2998</th>\n",
       "      <td>Compound Nevus</td>\n",
       "      <td>F999</td>\n",
       "      <td>2999</td>\n",
       "      <td>0</td>\n",
       "      <td>Compound Nevus</td>\n",
       "      <td>0</td>\n",
       "    </tr>\n",
       "    <tr>\n",
       "      <th>2999</th>\n",
       "      <td>Compound Nevus</td>\n",
       "      <td>F1000</td>\n",
       "      <td>3000</td>\n",
       "      <td>0</td>\n",
       "      <td>Compound Nevus</td>\n",
       "      <td>0</td>\n",
       "    </tr>\n",
       "  </tbody>\n",
       "</table>\n",
       "<p>2937 rows × 6 columns</p>\n",
       "</div>"
      ],
      "text/plain": [
       "              klin. Diagn.     id    nr  Histo performed   Diagnose red.  \\\n",
       "0           Compound Nävus     D1     1                0  Compound Nevus   \n",
       "1           Compound Nävus     D2     2                0  Compound Nevus   \n",
       "2     Dysplastischer Nävus     D3     3                0  Compound Nevus   \n",
       "3           Compound Nävus     D4     4                0  Compound Nevus   \n",
       "4           Dermaler Nävus     D5     5                0  Compound Nevus   \n",
       "...                    ...    ...   ...              ...             ...   \n",
       "2995        Compound Nevus   F996  2996                0  Compound Nevus   \n",
       "2996        Compound Nevus   F997  2997                0  Compound Nevus   \n",
       "2997        Compound Nevus   F998  2998                0  Compound Nevus   \n",
       "2998        Compound Nevus   F999  2999                0  Compound Nevus   \n",
       "2999        Compound Nevus  F1000  3000                0  Compound Nevus   \n",
       "\n",
       "      kat.Diagnose  \n",
       "0                0  \n",
       "1                0  \n",
       "2                0  \n",
       "3                0  \n",
       "4                0  \n",
       "...            ...  \n",
       "2995             0  \n",
       "2996             0  \n",
       "2997             0  \n",
       "2998             0  \n",
       "2999             0  \n",
       "\n",
       "[2937 rows x 6 columns]"
      ]
     },
     "execution_count": 3,
     "metadata": {},
     "output_type": "execute_result"
    }
   ],
   "source": [
    "df = df[df[\"kat.Diagnose\"] != 0]\n",
    "df = df[df[\"kat.Diagnose\"] != \"?\"]\n",
    "df['kat.Diagnose'] = df['kat.Diagnose'].replace([1], 0).replace([2, 3], 1)\n",
    "df[\"id\"] = df[\"id\"].apply(lambda x : x.upper())\n",
    "\n",
    "df"
   ]
  },
  {
   "cell_type": "code",
   "execution_count": 5,
   "metadata": {},
   "outputs": [],
   "source": [
    "# images = os.listdir(\"Mole_Data\")\n",
    "\n",
    "# cancerous = []\n",
    "# not_cancerous = []\n",
    "# # image_index = []\n",
    "# # for i in images:\n",
    "# #     image_index.append(i)\n",
    "\n",
    "# for i in range(len(images)):\n",
    "\n",
    "#     try:\n",
    "#         if df[\"kat.Diagnose\"][i] == 0.0:\n",
    "#             not_cancerous.append(images[i])\n",
    "            \n",
    "#         elif df[\"kat.Diagnose\"][i] == 1.0:\n",
    "#             cancerous.append(images[i])\n",
    "#     except KeyError:\n",
    "#         continue\n"
   ]
  },
  {
   "cell_type": "code",
   "execution_count": 5,
   "metadata": {
    "scrolled": true
   },
   "outputs": [],
   "source": [
    "# print(len(cancerous))\n",
    "# print(len(not_cancerous))"
   ]
  },
  {
   "cell_type": "code",
   "execution_count": 6,
   "metadata": {},
   "outputs": [],
   "source": [
    "# for i in cancerous:\n",
    "#     x = Image.open(\"./Mole_Data/\" + i)\n",
    "#     x.save(\"./data/cancerous/\" + i)"
   ]
  },
  {
   "cell_type": "code",
   "execution_count": 7,
   "metadata": {},
   "outputs": [],
   "source": [
    "# for n in not_cancerous:\n",
    "#     y = Image.open(\"./Mole_Data/\" + n)\n",
    "#     y.save(\"./data/not_cancerous/\" + n)"
   ]
  },
  {
   "cell_type": "code",
   "execution_count": 8,
   "metadata": {
    "scrolled": true
   },
   "outputs": [],
   "source": [
    "# len(images[1])"
   ]
  },
  {
   "cell_type": "code",
   "execution_count": 9,
   "metadata": {},
   "outputs": [],
   "source": [
    "# path = \"/home/imad/Desktop/Becode/Project/challenge-mole/samples/F995.BMP\" #/home/imad/Desktop/Becode/Project/challenge-mole/samples\n",
    "path = \"/home/imad/Desktop/Becode/Project/challenge-mole/Mole_Data/D900.BMP\"\n",
    "img = cv.imread(path)\n",
    "cv.imshow('origin',img)\n",
    "# gray = cv.cvtColor(img, cv.COLOR_BGR2GRAY)\n",
    "# cv.imshow('gray',gray)\n",
    "cv.waitKey(0)\n",
    "cv.destroyAllWindows()"
   ]
  },
  {
   "cell_type": "code",
   "execution_count": 10,
   "metadata": {},
   "outputs": [
    {
     "data": {
      "text/plain": [
       "(387, 632, 3)"
      ]
     },
     "execution_count": 10,
     "metadata": {},
     "output_type": "execute_result"
    }
   ],
   "source": [
    "img.shape\n",
    "# gray = cv.cvtColor(img, cv.COLOR_BGR2GRAY)\n",
    "# gray.shape"
   ]
  },
  {
   "cell_type": "code",
   "execution_count": 11,
   "metadata": {},
   "outputs": [],
   "source": [
    "# canerous_set = np.load(\"/home/imad/Desktop/Becode/Project/challenge-mole/data/cancerous\")\n",
    "# canerous_set = np.load(\"/home/imad/Desktop/Becode/Project/challenge-mole/data/not_cancerous\")"
   ]
  },
  {
   "cell_type": "code",
   "execution_count": null,
   "metadata": {},
   "outputs": [],
   "source": []
  },
  {
   "cell_type": "code",
   "execution_count": 6,
   "metadata": {},
   "outputs": [],
   "source": [
    "def load_images_from_folder(folder):\n",
    "    images = []\n",
    "    for filename in os.listdir(folder):\n",
    "        img = cv.imread(os.path.join(folder,filename))\n",
    "        if img is not None:\n",
    "            images.append(img)\n",
    "    return images"
   ]
  },
  {
   "cell_type": "code",
   "execution_count": 7,
   "metadata": {},
   "outputs": [],
   "source": [
    "cancerous_set = load_images_from_folder(\"/home/imad/Desktop/Becode/Project/challenge-mole/data/cancerous\")\n",
    "not_cancerous_set = load_images_from_folder(\"/home/imad/Desktop/Becode/Project/challenge-mole/data/not_cancerous\")\n",
    "augmented = load_images_from_folder(\"/home/imad/Desktop/Becode/Project/challenge-mole/data/augmented\")"
   ]
  },
  {
   "cell_type": "code",
   "execution_count": 8,
   "metadata": {},
   "outputs": [],
   "source": [
    "# resize the images to (256, 256, 3)\n",
    "# canerous_set = canerous_set.apply(lambda img : img = img.resize((256, 256)))"
   ]
  },
  {
   "cell_type": "code",
   "execution_count": null,
   "metadata": {},
   "outputs": [],
   "source": []
  },
  {
   "cell_type": "code",
   "execution_count": 9,
   "metadata": {},
   "outputs": [],
   "source": [
    "new_width = 256\n",
    "new_height = 256\n",
    "# dsize\n",
    "\n",
    "cancerous_resized = []\n",
    "not_cancerours_resized = []\n",
    "for i in range(len(cancerous_set)):\n",
    "    i = cancerous_set[i]\n",
    "    # resize image\n",
    "    i = cv.resize(i, dsize, interpolation = cv.INTER_NEAREST)\n",
    "    cancerous_resized.append(i)\n",
    "\n",
    "\n"
   ]
  },
  {
   "cell_type": "code",
   "execution_count": 10,
   "metadata": {},
   "outputs": [
    {
     "data": {
      "text/plain": [
       "(256, 256, 3)"
      ]
     },
     "execution_count": 10,
     "metadata": {},
     "output_type": "execute_result"
    }
   ],
   "source": [
    "cancerous_resized[9].shape"
   ]
  },
  {
   "cell_type": "code",
   "execution_count": 11,
   "metadata": {},
   "outputs": [],
   "source": [
    "not_cancerours_resized = []\n",
    "\n",
    "for i in range(len(not_cancerous_set)):\n",
    "    i = not_cancerous_set[i]\n",
    "    # resize image\n",
    "    i = cv.resize(i, dsize, interpolation = cv.INTER_NEAREST)\n",
    "    not_cancerours_resized.append(i)"
   ]
  },
  {
   "cell_type": "code",
   "execution_count": 12,
   "metadata": {
    "scrolled": false
   },
   "outputs": [
    {
     "data": {
      "text/plain": [
       "(256, 256, 3)"
      ]
     },
     "execution_count": 12,
     "metadata": {},
     "output_type": "execute_result"
    }
   ],
   "source": [
    "not_cancerours_resized[0].shape"
   ]
  },
  {
   "cell_type": "code",
   "execution_count": 13,
   "metadata": {},
   "outputs": [
    {
     "data": {
      "text/plain": [
       "(256, 256, 3)"
      ]
     },
     "execution_count": 13,
     "metadata": {},
     "output_type": "execute_result"
    }
   ],
   "source": [
    "augmented[0].shape"
   ]
  },
  {
   "cell_type": "code",
   "execution_count": 14,
   "metadata": {},
   "outputs": [],
   "source": [
    "# contctnate data\n",
    "cancerous = np.concatenate([cancerous_resized, augmented])\n",
    "not_cancerous = not_cancerours_resized"
   ]
  },
  {
   "cell_type": "code",
   "execution_count": 15,
   "metadata": {},
   "outputs": [],
   "source": [
    "cancerous = np.array(cancerous)\n",
    "not_cancerous = np.array(not_cancerous)"
   ]
  },
  {
   "cell_type": "code",
   "execution_count": 16,
   "metadata": {
    "scrolled": false
   },
   "outputs": [
    {
     "data": {
      "text/plain": [
       "Text(0, 0.5, 'number of samples')"
      ]
     },
     "execution_count": 16,
     "metadata": {},
     "output_type": "execute_result"
    },
    {
     "data": {
      "image/png": "[encoded data removed]",
      "text/plain": [
       "<Figure size 432x288 with 1 Axes>"
      ]
     },
     "metadata": {
      "needs_background": "light"
     },
     "output_type": "display_data"
    }
   ],
   "source": [
    "plt.bar([0,1], [cancerous.shape[0], not_cancerous.shape[0]])\n",
    "plt.title('dataset sizes')\n",
    "plt.xticks([0,1], ['cancerous', 'not_cancerous'])\n",
    "plt.ylabel('number of samples')"
   ]
  },
  {
   "cell_type": "code",
   "execution_count": 17,
   "metadata": {},
   "outputs": [],
   "source": [
    "max_samples = min(cancerous.shape[0], not_cancerous.shape[0])\n",
    "# preprocessed_cancerous = cancerous[:max_samples].reshape(-1,256,256)\n",
    "# preprocessed_not_cancerous = not_cancerous[:max_samples].reshape(-1,256,256)\n",
    "preprocessed_cancerous = cancerous[:max_samples]\n",
    "preprocessed_not_cancerous = not_cancerous[:max_samples]"
   ]
  },
  {
   "cell_type": "code",
   "execution_count": 18,
   "metadata": {},
   "outputs": [
    {
     "data": {
      "text/plain": [
       "Text(0, 0.5, 'number of samples')"
      ]
     },
     "execution_count": 18,
     "metadata": {},
     "output_type": "execute_result"
    },
    {
     "data": {
      "image/png": "[encoded data removed]",
      "text/plain": [
       "<Figure size 432x288 with 1 Axes>"
      ]
     },
     "metadata": {
      "needs_background": "light"
     },
     "output_type": "display_data"
    }
   ],
   "source": [
    "plt.bar([0,1], [preprocessed_cancerous.shape[0], preprocessed_not_cancerous.shape[0]])\n",
    "plt.title('dataset sizes')\n",
    "plt.xticks([0,1], ['cancerous', 'not_cancerous'])\n",
    "plt.ylabel('number of samples')"
   ]
  },
  {
   "cell_type": "code",
   "execution_count": 19,
   "metadata": {},
   "outputs": [],
   "source": [
    "canerous_set_labels = np.zeros((max_samples, 1))\n",
    "not_canerous_set_labels = np.ones((max_samples, 1))"
   ]
  },
  {
   "cell_type": "code",
   "execution_count": 20,
   "metadata": {},
   "outputs": [
    {
     "name": "stdout",
     "output_type": "stream",
     "text": [
      "Drawings shape before :  (2420, 256, 256, 3)\n",
      "Drawings shape after :  (2420, 256, 256, 3)\n",
      "Label shape :  (2420, 1)\n"
     ]
    }
   ],
   "source": [
    "labels = np.concatenate([canerous_set_labels, not_canerous_set_labels])\n",
    "drawings = np.concatenate([preprocessed_cancerous, preprocessed_not_cancerous])\n",
    "\n",
    "# tensorflow wants a 4D tensor with (n_images, width, height, colour_depth)\n",
    "print(\"Drawings shape before : \", drawings.shape)\n",
    "# drawings = np.expand_dims(drawings, axis=4)\n",
    "print(\"Drawings shape after : \", drawings.shape)\n",
    "print(\"Label shape : \", labels.shape)\n"
   ]
  },
  {
   "cell_type": "code",
   "execution_count": 21,
   "metadata": {},
   "outputs": [
    {
     "name": "stdout",
     "output_type": "stream",
     "text": [
      "train_drawings shape :  (1936, 256, 256, 3)\n",
      "test_drawings shape :  (484, 256, 256, 3)\n",
      "train_labels shape :  (1936, 1)\n",
      "test_labels shape :  (484, 1)\n"
     ]
    }
   ],
   "source": [
    "from sklearn.model_selection import train_test_split\n",
    "from numpy import save\n",
    "from keras import layers, models\n",
    "\n",
    "train_drawings, test_drawings, train_labels, test_labels = train_test_split(\n",
    "    drawings, \n",
    "    labels,\n",
    "    test_size=0.2, \n",
    "    random_state=42, \n",
    "    shuffle=True\n",
    ")\n",
    "\n",
    "print(\"train_drawings shape : \", train_drawings.shape)\n",
    "print(\"test_drawings shape : \", test_drawings.shape)\n",
    "print(\"train_labels shape : \", train_labels.shape)\n",
    "print(\"test_labels shape : \", test_labels.shape)"
   ]
  },
  {
   "cell_type": "code",
   "execution_count": 22,
   "metadata": {},
   "outputs": [],
   "source": [
    "# save numpy array as npy file\n",
    "# define data\n",
    "# save to npy file\n",
    "save('train_drawings.npy', train_drawings)\n",
    "save('test_drawings.npy', test_drawings)\n",
    "save('train_labels.npy', train_labels)\n",
    "save('test_labels.npy', test_labels)"
   ]
  },
  {
   "cell_type": "code",
   "execution_count": 31,
   "metadata": {},
   "outputs": [
    {
     "name": "stdout",
     "output_type": "stream",
     "text": [
      "Model: \"sequential\"\n",
      "_________________________________________________________________\n",
      "Layer (type)                 Output Shape              Param #   \n",
      "=================================================================\n",
      "conv2d (Conv2D)              (None, 252, 252, 32)      2432      \n",
      "_________________________________________________________________\n",
      "conv2d_1 (Conv2D)            (None, 248, 248, 16)      12816     \n",
      "_________________________________________________________________\n",
      "flatten (Flatten)            (None, 984064)            0         \n",
      "_________________________________________________________________\n",
      "dense (Dense)                (None, 256)               251920640 \n",
      "_________________________________________________________________\n",
      "dense_1 (Dense)              (None, 128)               32896     \n",
      "_________________________________________________________________\n",
      "dense_2 (Dense)              (None, 64)                8256      \n",
      "_________________________________________________________________\n",
      "dense_3 (Dense)              (None, 2)                 130       \n",
      "=================================================================\n",
      "Total params: 251,977,170\n",
      "Trainable params: 251,977,170\n",
      "Non-trainable params: 0\n",
      "_________________________________________________________________\n"
     ]
    }
   ],
   "source": [
    "# pixel width and height of our images\n",
    "input_size = 256\n",
    "\n",
    "# number of filters in the convnet layer\n",
    "filters = 16\n",
    "\n",
    "model = models.Sequential()\n",
    "model.add(layers.Conv2D(32, kernel_size = (5, 5), activation='relu', input_shape=(input_size, input_size, 3)))\n",
    "# model.add(layers.MaxPooling2D(pool_size=(2, 2), strides=(2, 2), padding='same'))\n",
    "model.add(layers.Conv2D(16, kernel_size = (5, 5), activation='relu', ))\n",
    "# model.add(layers.MaxPooling2D(pool_size=(2, 2), strides=(2, 2), padding='same'))\n",
    "model.add(layers.Flatten())\n",
    "model.add(layers.Dense(256, activation='relu'))\n",
    "# model.add(layers.Dropout(0.5))\n",
    "model.add(layers.Dense(128, activation='relu'))\n",
    "# model.add(layers.Dropout(0.5))\n",
    "model.add(layers.Dense(64, activation='relu'))\n",
    "\n",
    "model.add(layers.Dense(2, activation='softmax'))\n",
    "model.summary()"
   ]
  },
  {
   "cell_type": "code",
   "execution_count": null,
   "metadata": {},
   "outputs": [
    {
     "name": "stdout",
     "output_type": "stream",
     "text": [
      "Epoch 1/10\n"
     ]
    }
   ],
   "source": [
    "model.compile(optimizer='adam',\n",
    "              loss='sparse_categorical_crossentropy',\n",
    "              metrics=['accuracy'])\n",
    "\n",
    "history = model.fit(train_drawings, train_labels, epochs=10, \n",
    "                    validation_data=(test_drawings, test_labels))"
   ]
  },
  {
   "cell_type": "code",
   "execution_count": 76,
   "metadata": {},
   "outputs": [
    {
     "name": "stdout",
     "output_type": "stream",
     "text": [
      "Model: \"sequential\"\n",
      "_________________________________________________________________\n",
      "Layer (type)                 Output Shape              Param #   \n",
      "=================================================================\n",
      "conv2d (Conv2D)              (None, 252, 252, 32)      2432      \n",
      "_________________________________________________________________\n",
      "conv2d_1 (Conv2D)            (None, 248, 248, 16)      12816     \n",
      "_________________________________________________________________\n",
      "flatten (Flatten)            (None, 984064)            0         \n",
      "_________________________________________________________________\n",
      "dense (Dense)                (None, 256)               251920640 \n",
      "_________________________________________________________________\n",
      "dense_1 (Dense)              (None, 128)               32896     \n",
      "_________________________________________________________________\n",
      "dense_2 (Dense)              (None, 64)                8256      \n",
      "_________________________________________________________________\n",
      "dense_3 (Dense)              (None, 2)                 130       \n",
      "=================================================================\n",
      "Total params: 251,977,170\n",
      "Trainable params: 251,977,170\n",
      "Non-trainable params: 0\n",
      "_________________________________________________________________\n",
      "None\n"
     ]
    }
   ],
   "source": [
    "import cv2 as cv\n",
    "from tensorflow.keras.models import load_model, model_from_json\n",
    "\n",
    "import numpy as np\n",
    "\n",
    "category = [\"cancerous\", \"not_cancerous\"]\n",
    "\n",
    "model = load_model(\"./deployment/my_model.h5\")\n",
    "predict_value = model.predict([prepare(\"F1000.BMP\")])\n",
    "\n",
    "print(model.summary())"
   ]
  },
  {
   "cell_type": "code",
   "execution_count": 3,
   "metadata": {},
   "outputs": [],
   "source": [
    "model.get_weights()"
   ]
  },
  {
   "cell_type": "code",
   "execution_count": 4,
   "metadata": {},
   "outputs": [],
   "source": [
    "json_string = model.to_json()"
   ]
  },
  {
   "cell_type": "code",
   "execution_count": 6,
   "metadata": {},
   "outputs": [],
   "source": [
    "json_string"
   ]
  },
  {
   "cell_type": "code",
   "execution_count": 7,
   "metadata": {},
   "outputs": [],
   "source": [
    "model_ar = model_from_json(json_string)"
   ]
  },
  {
   "cell_type": "code",
   "execution_count": 8,
   "metadata": {},
   "outputs": [
    {
     "name": "stdout",
     "output_type": "stream",
     "text": [
      "Model: \"sequential\"\n",
      "_________________________________________________________________\n",
      "Layer (type)                 Output Shape              Param #   \n",
      "=================================================================\n",
      "conv2d (Conv2D)              (None, 252, 252, 32)      2432      \n",
      "_________________________________________________________________\n",
      "conv2d_1 (Conv2D)            (None, 248, 248, 16)      12816     \n",
      "_________________________________________________________________\n",
      "flatten (Flatten)            (None, 984064)            0         \n",
      "_________________________________________________________________\n",
      "dense (Dense)                (None, 256)               251920640 \n",
      "_________________________________________________________________\n",
      "dense_1 (Dense)              (None, 128)               32896     \n",
      "_________________________________________________________________\n",
      "dense_2 (Dense)              (None, 64)                8256      \n",
      "_________________________________________________________________\n",
      "dense_3 (Dense)              (None, 2)                 130       \n",
      "=================================================================\n",
      "Total params: 251,977,170\n",
      "Trainable params: 251,977,170\n",
      "Non-trainable params: 0\n",
      "_________________________________________________________________\n"
     ]
    }
   ],
   "source": [
    "model_ar.summary()"
   ]
  },
  {
   "cell_type": "code",
   "execution_count": 77,
   "metadata": {},
   "outputs": [],
   "source": [
    "img = cv.imread(\"./deployment/F1000.BMP\")\n",
    "img = np.array(img)\n",
    "img = cv.resize(img, (256,256), interpolation = cv.INTER_NEAREST)# , interpolation = cv.INTER_NEAREST"
   ]
  },
  {
   "cell_type": "code",
   "execution_count": 85,
   "metadata": {},
   "outputs": [],
   "source": [
    "predi = model.predict(prepare(\"./deployment/F1000.BMP\"))"
   ]
  },
  {
   "cell_type": "code",
   "execution_count": 87,
   "metadata": {},
   "outputs": [
    {
     "data": {
      "text/plain": [
       "array([[0.3506584 , 0.64934164]], dtype=float32)"
      ]
     },
     "execution_count": 87,
     "metadata": {},
     "output_type": "execute_result"
    }
   ],
   "source": [
    "predi"
   ]
  },
  {
   "cell_type": "code",
   "execution_count": 88,
   "metadata": {},
   "outputs": [
    {
     "name": "stdout",
     "output_type": "stream",
     "text": [
      "cancerous\n"
     ]
    }
   ],
   "source": [
    "print(category[int(predi[0][0])])"
   ]
  },
  {
   "cell_type": "code",
   "execution_count": 14,
   "metadata": {},
   "outputs": [],
   "source": [
    "x = \"./deployment/F1000.BMP\"\n",
    "img = cv.imread(x, cv.IMREAD_COLOR)\n",
    "img"
   ]
  },
  {
   "cell_type": "code",
   "execution_count": 74,
   "metadata": {},
   "outputs": [
    {
     "name": "stdout",
     "output_type": "stream",
     "text": [
      "Model: \"sequential\"\n",
      "_________________________________________________________________\n",
      "Layer (type)                 Output Shape              Param #   \n",
      "=================================================================\n",
      "efficientnet-b0 (Functional) (None, 7, 7, 1280)        4049564   \n",
      "_________________________________________________________________\n",
      "global_average_pooling2d (Gl (None, 1280)              0         \n",
      "_________________________________________________________________\n",
      "dense (Dense)                (None, 128)               163968    \n",
      "_________________________________________________________________\n",
      "dropout (Dropout)            (None, 128)               0         \n",
      "_________________________________________________________________\n",
      "batch_normalization (BatchNo (None, 128)               512       \n",
      "_________________________________________________________________\n",
      "dense_1 (Dense)              (None, 2)                 258       \n",
      "=================================================================\n",
      "Total params: 4,214,302\n",
      "Trainable params: 4,172,030\n",
      "Non-trainable params: 42,272\n",
      "_________________________________________________________________\n"
     ]
    }
   ],
   "source": [
    "from efficientnet.tfkeras import EfficientNetB4\n",
    "from keras.initializers import glorot_uniform\n",
    "with open(\"./deployment/model.json\", \"r\") as json_file:\n",
    "    json_savedmodel = json_file.read()\n",
    "model_j = model_from_json(json_savedmodel)\n",
    "model_j.summary()"
   ]
  },
  {
   "cell_type": "code",
   "execution_count": 70,
   "metadata": {},
   "outputs": [
    {
     "data": {
      "text/plain": [
       "(1, 256, 256, 3)"
      ]
     },
     "execution_count": 70,
     "metadata": {},
     "output_type": "execute_result"
    }
   ],
   "source": [
    "new_img = prediction_resault(\"./deployment/F1000.BMP\").shape\n",
    "new_img"
   ]
  }
 ],
 "metadata": {
  "kernelspec": {
   "display_name": "Python 3",
   "language": "python",
   "name": "python3"
  },
  "language_info": {
   "codemirror_mode": {
    "name": "ipython",
    "version": 3
   },
   "file_extension": ".py",
   "mimetype": "text/x-python",
   "name": "python",
   "nbconvert_exporter": "python",
   "pygments_lexer": "ipython3",
   "version": "3.8.5"
  }
 },
 "nbformat": 4,
 "nbformat_minor": 4
}
